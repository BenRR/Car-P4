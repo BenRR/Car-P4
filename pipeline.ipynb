{
 "cells": [
  {
   "cell_type": "code",
   "execution_count": 1,
   "metadata": {
    "collapsed": false,
    "deletable": true,
    "editable": true
   },
   "outputs": [],
   "source": [
    "import matplotlib.pyplot as plt\n",
    "import calibration\n",
    "import matplotlib.image as mpimg\n",
    "import imagefilter\n",
    "import glob\n",
    "import warp\n",
    "import findlane\n",
    "from moviepy.editor import VideoFileClip\n",
    "from IPython.display import HTML\n",
    "from line import Line\n",
    "import drawlane\n",
    "%matplotlib inline"
   ]
  },
  {
   "cell_type": "code",
   "execution_count": 2,
   "metadata": {
    "collapsed": true,
    "deletable": true,
    "editable": true
   },
   "outputs": [],
   "source": [
    "def draw(img, mtx, origin):\n",
    "    leftfit, rightfit, leftx, rightx, lefty, righty = findlane.find_lane(img)\n",
    "    ploty = findlane.get_ploty()\n",
    "    return drawlane.lane_image(img, origin,mtx, ploty, leftfit,rightfit)"
   ]
  },
  {
   "cell_type": "code",
   "execution_count": 3,
   "metadata": {
    "collapsed": true,
    "deletable": true,
    "editable": true
   },
   "outputs": [],
   "source": [
    "def process(img, cali_dict=None, warp_m=None, in_m=None):\n",
    "    if cali_dict is None:\n",
    "        cali_dict = calibration.cam_cali()\n",
    "    cali_img = calibration.cali_img(img, cali_dict)\n",
    "    if warp_m is None:\n",
    "        warp_src, warp_dst = warp.warp_points()\n",
    "        warp_m, in_m = warp.warp_ms(warp_src,warp_dst)\n",
    "    warped_img = warp.warp_img(cali_img, warp_m)\n",
    "    filtered_img = imagefilter.color_gradient_filter(warped_img)\n",
    "    return filtered_img\n"
   ]
  },
  {
   "cell_type": "code",
   "execution_count": 4,
   "metadata": {
    "collapsed": false,
    "deletable": true,
    "editable": true
   },
   "outputs": [],
   "source": [
    "images =[mpimg.imread(img) for img in glob.glob(\"test_images/test*.jpg\")]"
   ]
  },
  {
   "cell_type": "code",
   "execution_count": 5,
   "metadata": {
    "collapsed": true,
    "deletable": true,
    "editable": true
   },
   "outputs": [],
   "source": [
    "cali_dict = calibration.cam_cali()\n",
    "cali_images = [calibration.cali_img(img, cali_dict) for img in images]"
   ]
  },
  {
   "cell_type": "code",
   "execution_count": 6,
   "metadata": {
    "collapsed": true,
    "deletable": true,
    "editable": true
   },
   "outputs": [],
   "source": [
    "def plot_twin(images1, images2):\n",
    "    for i in range(0, len(images1)):\n",
    "        plt.figure()\n",
    "        f, (ax1, ax2) = plt.subplots(1, 2, figsize=(15,9))\n",
    "        ax1.imshow(images1[i])\n",
    "        ax2.imshow(images2[i])\n",
    "\n",
    "# plot_twin(images, cali_images)"
   ]
  },
  {
   "cell_type": "code",
   "execution_count": 7,
   "metadata": {
    "collapsed": false,
    "deletable": true,
    "editable": true
   },
   "outputs": [],
   "source": [
    "filtered_images = [imagefilter.color_gradient_filter(img) for img in cali_images]\n",
    "#plot_twin(cali_images, filtered_images)"
   ]
  },
  {
   "cell_type": "code",
   "execution_count": 8,
   "metadata": {
    "collapsed": false,
    "deletable": true,
    "editable": true
   },
   "outputs": [],
   "source": [
    "src,dst = warp.warp_points()\n",
    "m,in_m = warp.warp_ms(src, dst)"
   ]
  },
  {
   "cell_type": "code",
   "execution_count": 9,
   "metadata": {
    "collapsed": false,
    "deletable": true,
    "editable": true
   },
   "outputs": [],
   "source": [
    "warped_images = [warp.warp_img(img,m) for img in cali_images]\n",
    "filtered_warped_images = [imagefilter.color_gradient_filter(img) for img in warped_images]\n",
    "# plot_twin(warped_images, filtered_warped_images)\n"
   ]
  },
  {
   "cell_type": "code",
   "execution_count": 10,
   "metadata": {
    "collapsed": false,
    "deletable": true,
    "editable": true
   },
   "outputs": [],
   "source": [
    "final_images = [draw(filtered_warped_images[i],in_m, images[i]) for i in range(0, len(images))]\n",
    "#plot_twin(filtered_warped_images, final_images)"
   ]
  },
  {
   "cell_type": "code",
   "execution_count": 11,
   "metadata": {
    "collapsed": false,
    "deletable": true,
    "editable": true
   },
   "outputs": [],
   "source": [
    "processed_images = [process(img) for img in images]\n",
    "#plot_twin(images, processed_images)"
   ]
  },
  {
   "cell_type": "code",
   "execution_count": 12,
   "metadata": {
    "collapsed": false
   },
   "outputs": [
    {
     "data": {
      "image/png": "[encoded data removed]",
      "text/plain": [
       "<matplotlib.figure.Figure at 0x11d5cdbe0>"
      ]
     },
     "metadata": {},
     "output_type": "display_data"
    }
   ],
   "source": [
    "\n",
    "\n",
    "plt.imshow(processed_images[0])\n",
    "line1 = Line()\n",
    "line1.update(processed_images[0])"
   ]
  },
  {
   "cell_type": "code",
   "execution_count": null,
   "metadata": {
    "collapsed": true
   },
   "outputs": [],
   "source": [
    "drawlane.lane_image(, origin,mtx, ploty, leftfit,rightfit)"
   ]
  },
  {
   "cell_type": "code",
   "execution_count": null,
   "metadata": {
    "collapsed": false,
    "deletable": true,
    "editable": true
   },
   "outputs": [],
   "source": [
    "white_output = 'output.mp4'\n",
    "clip1 = VideoFileClip(\"project_video.mp4\")\n",
    "white_clip = clip1.fl_image(process) #NOTE: this function expects color images!!\n",
    "%time white_clip.write_videofile(white_output, audio=False)"
   ]
  },
  {
   "cell_type": "code",
   "execution_count": null,
   "metadata": {
    "collapsed": false,
    "deletable": true,
    "editable": true
   },
   "outputs": [],
   "source": [
    "HTML(\"\"\"\n",
    "<video width=\"960\" height=\"540\" controls>\n",
    "  <source src=\"{0}\">\n",
    "</video>\n",
    "\"\"\".format(white_output))"
   ]
  },
  {
   "cell_type": "code",
   "execution_count": null,
   "metadata": {
    "collapsed": true,
    "deletable": true,
    "editable": true
   },
   "outputs": [],
   "source": []
  }
 ],
 "metadata": {
  "kernelspec": {
   "display_name": "Python 3",
   "language": "python",
   "name": "python3"
  },
  "language_info": {
   "codemirror_mode": {
    "name": "ipython",
    "version": 3
   },
   "file_extension": ".py",
   "mimetype": "text/x-python",
   "name": "python",
   "nbconvert_exporter": "python",
   "pygments_lexer": "ipython3",
   "version": "3.5.2"
  },
  "widgets": {
   "state": {},
   "version": "1.1.2"
  }
 },
 "nbformat": 4,
 "nbformat_minor": 0
}
